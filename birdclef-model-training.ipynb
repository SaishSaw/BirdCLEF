{
 "cells": [
  {
   "cell_type": "code",
   "execution_count": 1,
   "id": "afaafdbd",
   "metadata": {
    "_cell_guid": "b1076dfc-b9ad-4769-8c92-a6c4dae69d19",
    "_uuid": "8f2839f25d086af736a60e9eeb907d3b93b6e0e5",
    "execution": {
     "iopub.execute_input": "2025-04-20T08:14:50.542184Z",
     "iopub.status.busy": "2025-04-20T08:14:50.541877Z",
     "iopub.status.idle": "2025-04-20T08:15:05.420736Z",
     "shell.execute_reply": "2025-04-20T08:15:05.419982Z"
    },
    "papermill": {
     "duration": 14.885332,
     "end_time": "2025-04-20T08:15:05.422360",
     "exception": false,
     "start_time": "2025-04-20T08:14:50.537028",
     "status": "completed"
    },
    "tags": []
   },
   "outputs": [],
   "source": [
    "# This Python 3 environment comes with many helpful analytics libraries installed\n",
    "# It is defined by the kaggle/python Docker image: https://github.com/kaggle/docker-python\n",
    "# For example, here's several helpful packages to load\n",
    "\n",
    "import numpy as np # linear algebra\n",
    "import pandas as pd # data processing, CSV file I/O (e.g. pd.read_csv)\n",
    "import tensorflow as tf\n",
    "import librosa\n",
    "from sklearn.metrics import accuracy_score\n",
    "# Input data files are available in the read-only \"../input/\" directory\n",
    "# For example, running this (by clicking run or pressing Shift+Enter) will list all files under the input directory\n",
    "\n",
    "import os\n",
    "# You can write up to 20GB to the current directory (/kaggle/working/) that gets preserved as output when you create a version using \"Save & Run All\" \n",
    "# You can also write temporary files to /kaggle/temp/, but they won't be saved outside of the current session"
   ]
  },
  {
   "cell_type": "code",
   "execution_count": 2,
   "id": "0b461f63",
   "metadata": {
    "execution": {
     "iopub.execute_input": "2025-04-20T08:15:05.430995Z",
     "iopub.status.busy": "2025-04-20T08:15:05.430496Z",
     "iopub.status.idle": "2025-04-20T08:15:06.021931Z",
     "shell.execute_reply": "2025-04-20T08:15:06.020956Z"
    },
    "papermill": {
     "duration": 0.597002,
     "end_time": "2025-04-20T08:15:06.023521",
     "exception": false,
     "start_time": "2025-04-20T08:15:05.426519",
     "status": "completed"
    },
    "tags": []
   },
   "outputs": [],
   "source": [
    "# load the preloaded process-audio\n",
    "import pickle\n",
    "with open('/kaggle/input/process-audio/train_processed_audio.pkl','rb') as f:\n",
    "    data = pickle.load(f)"
   ]
  },
  {
   "cell_type": "code",
   "execution_count": 3,
   "id": "bab37445",
   "metadata": {
    "execution": {
     "iopub.execute_input": "2025-04-20T08:15:06.031352Z",
     "iopub.status.busy": "2025-04-20T08:15:06.031112Z",
     "iopub.status.idle": "2025-04-20T08:15:06.967414Z",
     "shell.execute_reply": "2025-04-20T08:15:06.966491Z"
    },
    "papermill": {
     "duration": 0.941952,
     "end_time": "2025-04-20T08:15:06.969065",
     "exception": false,
     "start_time": "2025-04-20T08:15:06.027113",
     "status": "completed"
    },
    "tags": []
   },
   "outputs": [
    {
     "data": {
      "text/html": [
       "<div>\n",
       "<style scoped>\n",
       "    .dataframe tbody tr th:only-of-type {\n",
       "        vertical-align: middle;\n",
       "    }\n",
       "\n",
       "    .dataframe tbody tr th {\n",
       "        vertical-align: top;\n",
       "    }\n",
       "\n",
       "    .dataframe thead th {\n",
       "        text-align: right;\n",
       "    }\n",
       "</style>\n",
       "<table border=\"1\" class=\"dataframe\">\n",
       "  <thead>\n",
       "    <tr style=\"text-align: right;\">\n",
       "      <th></th>\n",
       "      <th>labels</th>\n",
       "      <th>embeddings</th>\n",
       "    </tr>\n",
       "  </thead>\n",
       "  <tbody>\n",
       "    <tr>\n",
       "      <th>0</th>\n",
       "      <td>41663</td>\n",
       "      <td>[[0.0, 1.2797491e-07, 0.00021587347, 0.0025362...</td>\n",
       "    </tr>\n",
       "    <tr>\n",
       "      <th>1</th>\n",
       "      <td>yecspi2</td>\n",
       "      <td>[[4.974095, 58.645084, 198.50327, 369.67136, 3...</td>\n",
       "    </tr>\n",
       "    <tr>\n",
       "      <th>2</th>\n",
       "      <td>baymac</td>\n",
       "      <td>[[1.6719003e-09, 0.009455838, 1.3032254, 8.573...</td>\n",
       "    </tr>\n",
       "    <tr>\n",
       "      <th>3</th>\n",
       "      <td>gybmar</td>\n",
       "      <td>[[2.0096888e-05, 0.03433669, 0.18154305, 0.108...</td>\n",
       "    </tr>\n",
       "    <tr>\n",
       "      <th>4</th>\n",
       "      <td>trokin</td>\n",
       "      <td>[[0.0, 2.278743e-15, 3.5270189e-06, 0.01068996...</td>\n",
       "    </tr>\n",
       "  </tbody>\n",
       "</table>\n",
       "</div>"
      ],
      "text/plain": [
       "    labels                                         embeddings\n",
       "0    41663  [[0.0, 1.2797491e-07, 0.00021587347, 0.0025362...\n",
       "1  yecspi2  [[4.974095, 58.645084, 198.50327, 369.67136, 3...\n",
       "2   baymac  [[1.6719003e-09, 0.009455838, 1.3032254, 8.573...\n",
       "3   gybmar  [[2.0096888e-05, 0.03433669, 0.18154305, 0.108...\n",
       "4   trokin  [[0.0, 2.278743e-15, 3.5270189e-06, 0.01068996..."
      ]
     },
     "execution_count": 3,
     "metadata": {},
     "output_type": "execute_result"
    }
   ],
   "source": [
    "with open('/kaggle/input/process-audio/test_processed_audio.pkl','rb') as file:\n",
    "    test_data = pickle.load(file)\n",
    "\n",
    "test_data = pd.DataFrame([test_data]).T\n",
    "test_data.reset_index(inplace=True)\n",
    "test_data.rename(columns={'index':'labels',0:'embeddings'},inplace=True)\n",
    "test_data.head(5)"
   ]
  },
  {
   "cell_type": "code",
   "execution_count": 4,
   "id": "7a4daf33",
   "metadata": {
    "execution": {
     "iopub.execute_input": "2025-04-20T08:15:06.977632Z",
     "iopub.status.busy": "2025-04-20T08:15:06.977392Z",
     "iopub.status.idle": "2025-04-20T08:15:06.988489Z",
     "shell.execute_reply": "2025-04-20T08:15:06.987699Z"
    },
    "papermill": {
     "duration": 0.01636,
     "end_time": "2025-04-20T08:15:06.989700",
     "exception": false,
     "start_time": "2025-04-20T08:15:06.973340",
     "status": "completed"
    },
    "tags": []
   },
   "outputs": [
    {
     "data": {
      "text/plain": [
       "(206, 2)"
      ]
     },
     "execution_count": 4,
     "metadata": {},
     "output_type": "execute_result"
    }
   ],
   "source": [
    "processed_data = pd.DataFrame([data]).T\n",
    "processed_data.reset_index(inplace=True)\n",
    "processed_data.rename(columns={'index':'labels',0:'embeddings'},inplace=True)\n",
    "processed_data.shape"
   ]
  },
  {
   "cell_type": "code",
   "execution_count": 5,
   "id": "9f600939",
   "metadata": {
    "execution": {
     "iopub.execute_input": "2025-04-20T08:15:06.997439Z",
     "iopub.status.busy": "2025-04-20T08:15:06.997228Z",
     "iopub.status.idle": "2025-04-20T08:15:07.002081Z",
     "shell.execute_reply": "2025-04-20T08:15:07.001429Z"
    },
    "papermill": {
     "duration": 0.010095,
     "end_time": "2025-04-20T08:15:07.003353",
     "exception": false,
     "start_time": "2025-04-20T08:15:06.993258",
     "status": "completed"
    },
    "tags": []
   },
   "outputs": [
    {
     "data": {
      "text/plain": [
       "(396, 2)"
      ]
     },
     "execution_count": 5,
     "metadata": {},
     "output_type": "execute_result"
    }
   ],
   "source": [
    "final_data = pd.concat([processed_data,test_data],axis=0)\n",
    "final_data.shape"
   ]
  },
  {
   "cell_type": "code",
   "execution_count": 6,
   "id": "a2f15794",
   "metadata": {
    "execution": {
     "iopub.execute_input": "2025-04-20T08:15:07.011242Z",
     "iopub.status.busy": "2025-04-20T08:15:07.011035Z",
     "iopub.status.idle": "2025-04-20T08:15:07.014822Z",
     "shell.execute_reply": "2025-04-20T08:15:07.014222Z"
    },
    "papermill": {
     "duration": 0.009191,
     "end_time": "2025-04-20T08:15:07.016208",
     "exception": false,
     "start_time": "2025-04-20T08:15:07.007017",
     "status": "completed"
    },
    "tags": []
   },
   "outputs": [],
   "source": [
    "from sklearn.preprocessing import LabelEncoder\n",
    "\n",
    "le = LabelEncoder()\n",
    "encoded_target = le.fit_transform(final_data.labels)"
   ]
  },
  {
   "cell_type": "code",
   "execution_count": 7,
   "id": "bff95943",
   "metadata": {
    "execution": {
     "iopub.execute_input": "2025-04-20T08:15:07.024149Z",
     "iopub.status.busy": "2025-04-20T08:15:07.023934Z",
     "iopub.status.idle": "2025-04-20T08:15:07.028812Z",
     "shell.execute_reply": "2025-04-20T08:15:07.028208Z"
    },
    "papermill": {
     "duration": 0.010454,
     "end_time": "2025-04-20T08:15:07.030266",
     "exception": false,
     "start_time": "2025-04-20T08:15:07.019812",
     "status": "completed"
    },
    "tags": []
   },
   "outputs": [
    {
     "data": {
      "text/plain": [
       "array([ 63, 197,  97,  80, 121, 113, 129, 168, 199, 134, 143, 179, 151,\n",
       "       148, 124, 194, 123, 181, 201, 176, 185, 193, 171, 155,  13, 190,\n",
       "        84,  90,  77, 147, 183, 149, 178, 198, 111, 180, 202, 173,  99,\n",
       "       144,  82,  60, 139,  70, 153, 102, 188,  67,  72,  71, 203, 166,\n",
       "       163, 136, 152, 200, 164,  66,  89, 204, 119, 169, 131, 150, 104,\n",
       "        36, 101, 138,  30,  68,  61, 145,  87, 187, 174, 177,  79, 132,\n",
       "        92,  14, 162, 126, 161, 195,  93, 140, 158, 172,  88, 205, 122,\n",
       "       196,  69, 100,  19,  98,  78, 175,  86,  91, 109,  96, 142,  32,\n",
       "        73, 157,  38, 165, 184,  76, 106,  64, 110, 170, 191, 118, 107,\n",
       "        23,  55, 167,   4, 125,  75, 133, 120, 115,  58, 192, 160, 114,\n",
       "       116,  56, 146,  85,  27,  62,  37,  12, 105,  31,  45, 112,  74,\n",
       "        41,  22,  16,  94,  65,  20, 127, 189,  95, 159,   9, 186, 128,\n",
       "       103,   5,  44,  81, 130,  29,  18, 154, 108, 141,  35,  28,  83,\n",
       "        52, 117, 156, 135,   6,  48,  43,  15,  47,  42,  24,  34,  49,\n",
       "        33,  21,  46,   1,  59,   7,  10,  25, 182,  50,   3,   8,  17,\n",
       "        11,  26,  53,  40, 137,  54,   2,   0,  57,  51,  39,  19, 198,\n",
       "        67, 118, 179, 185, 205, 164,  18, 125, 176, 110, 129, 180, 144,\n",
       "       184,  84,  90, 174, 187,  97, 190,  78,  61, 134,  14, 136,  66,\n",
       "        13, 113,  43, 153,  87, 152, 195,  88, 161,  94, 121, 171, 119,\n",
       "       116,  12, 100,  68, 203, 169, 170,  44, 111, 131,  70, 165, 160,\n",
       "        64, 158, 105,  71, 181, 133, 155, 142, 168,  89, 199, 148,  86,\n",
       "       201,  80, 124, 112, 102, 123, 115, 147, 204, 175,  93, 178, 107,\n",
       "       197, 143, 191, 159, 106,  38, 183, 177, 166,  98,  60,  99, 188,\n",
       "       126, 196, 189, 108,  45,  79, 186, 163, 109,  96, 162, 139, 200,\n",
       "       122,  69,  92,  75,  33, 150,  22,  53, 101, 172,  74,  91,  81,\n",
       "        76, 151,  72,  34, 104,  95, 103,  82, 149, 138, 130, 127, 173,\n",
       "        31,  73,  36,  30, 194, 192, 202,  62,  40, 132, 145, 157, 114,\n",
       "       146,   4, 141, 167,  83, 117,  85, 193,  56,  63, 182,  47,  55,\n",
       "       128,  77, 140, 135,  29,  39, 120,  35,  41,  54, 137,   9,  42,\n",
       "        65,  15, 156,  59,  51,  25, 154,  21,  57,   6,  28,   5,   2,\n",
       "        16,  46,  17,  58,  11,   3])"
      ]
     },
     "execution_count": 7,
     "metadata": {},
     "output_type": "execute_result"
    }
   ],
   "source": [
    "encoded_target"
   ]
  },
  {
   "cell_type": "code",
   "execution_count": 8,
   "id": "5bad73c7",
   "metadata": {
    "execution": {
     "iopub.execute_input": "2025-04-20T08:15:07.038700Z",
     "iopub.status.busy": "2025-04-20T08:15:07.038497Z",
     "iopub.status.idle": "2025-04-20T08:15:07.041278Z",
     "shell.execute_reply": "2025-04-20T08:15:07.040653Z"
    },
    "papermill": {
     "duration": 0.008224,
     "end_time": "2025-04-20T08:15:07.042521",
     "exception": false,
     "start_time": "2025-04-20T08:15:07.034297",
     "status": "completed"
    },
    "tags": []
   },
   "outputs": [],
   "source": [
    "# import tensorflow as tf\n",
    "\n",
    "# # Set the seed value for experiment reproducibility.\n",
    "# seed = 42\n",
    "# tf.random.set_seed(seed)\n",
    "# np.random.seed(seed)\n",
    "\n",
    "# embeddings = np.stack(final_data['embeddings'].values)\n",
    "# targets = encoded_target\n",
    "\n",
    "\n",
    "# x = tf.convert_to_tensor(embeddings)\n",
    "# y = tf.convert_to_tensor(targets)\n",
    "\n",
    "# if len(y.shape) == 2:\n",
    "#     y = tf.squeeze(y, axis=1)\n",
    "\n",
    "# tf_data = tf.data.Dataset.from_tensor_slices((x, y)).batch(32)"
   ]
  },
  {
   "cell_type": "code",
   "execution_count": 9,
   "id": "9b93868f",
   "metadata": {
    "execution": {
     "iopub.execute_input": "2025-04-20T08:15:07.050511Z",
     "iopub.status.busy": "2025-04-20T08:15:07.050312Z",
     "iopub.status.idle": "2025-04-20T08:15:07.053061Z",
     "shell.execute_reply": "2025-04-20T08:15:07.052385Z"
    },
    "papermill": {
     "duration": 0.008131,
     "end_time": "2025-04-20T08:15:07.054298",
     "exception": false,
     "start_time": "2025-04-20T08:15:07.046167",
     "status": "completed"
    },
    "tags": []
   },
   "outputs": [],
   "source": [
    "# for x,y in tf_data.take(1):\n",
    "#     print(x.shape)\n",
    "#     print(y.shape)"
   ]
  },
  {
   "cell_type": "code",
   "execution_count": 10,
   "id": "d1c19f8f",
   "metadata": {
    "execution": {
     "iopub.execute_input": "2025-04-20T08:15:07.062168Z",
     "iopub.status.busy": "2025-04-20T08:15:07.061966Z",
     "iopub.status.idle": "2025-04-20T08:15:07.065057Z",
     "shell.execute_reply": "2025-04-20T08:15:07.064351Z"
    },
    "papermill": {
     "duration": 0.00844,
     "end_time": "2025-04-20T08:15:07.066314",
     "exception": false,
     "start_time": "2025-04-20T08:15:07.057874",
     "status": "completed"
    },
    "tags": []
   },
   "outputs": [],
   "source": [
    "# convert dataset into train and val set\n",
    "\n",
    "# tf_data = tf_data.shuffle(buffer_size = tf_data.cardinality().numpy())\n",
    "# train_df = tf_data.take(10)\n",
    "# val_df = tf_data.skip(3)"
   ]
  },
  {
   "cell_type": "code",
   "execution_count": 11,
   "id": "fa58547a",
   "metadata": {
    "execution": {
     "iopub.execute_input": "2025-04-20T08:15:07.074616Z",
     "iopub.status.busy": "2025-04-20T08:15:07.074418Z",
     "iopub.status.idle": "2025-04-20T08:15:07.077167Z",
     "shell.execute_reply": "2025-04-20T08:15:07.076466Z"
    },
    "papermill": {
     "duration": 0.008029,
     "end_time": "2025-04-20T08:15:07.078320",
     "exception": false,
     "start_time": "2025-04-20T08:15:07.070291",
     "status": "completed"
    },
    "tags": []
   },
   "outputs": [],
   "source": [
    "# for x, y in train_df.take(1):\n",
    "#     print(\"x shape:\", x[0].shape)\n",
    "#     print(\"y shape:\", y[0].shape)"
   ]
  },
  {
   "cell_type": "code",
   "execution_count": 12,
   "id": "328446bf",
   "metadata": {
    "execution": {
     "iopub.execute_input": "2025-04-20T08:15:07.086564Z",
     "iopub.status.busy": "2025-04-20T08:15:07.086363Z",
     "iopub.status.idle": "2025-04-20T08:15:07.111957Z",
     "shell.execute_reply": "2025-04-20T08:15:07.110999Z"
    },
    "papermill": {
     "duration": 0.03147,
     "end_time": "2025-04-20T08:15:07.113571",
     "exception": false,
     "start_time": "2025-04-20T08:15:07.082101",
     "status": "completed"
    },
    "tags": []
   },
   "outputs": [],
   "source": [
    "# training arrays\n",
    "X = np.stack(final_data['embeddings'].values)\n",
    "y = encoded_target\n",
    "\n",
    "# split data into train and test split\n",
    "split_size = int(0.7*X.shape[0])\n",
    "X_train,X_val = X[:split_size],X[split_size:]\n",
    "y_train,y_val = y[:split_size],y[split_size:]"
   ]
  },
  {
   "cell_type": "code",
   "execution_count": 13,
   "id": "37fc8d80",
   "metadata": {
    "execution": {
     "iopub.execute_input": "2025-04-20T08:15:07.122627Z",
     "iopub.status.busy": "2025-04-20T08:15:07.122357Z",
     "iopub.status.idle": "2025-04-20T08:15:07.126722Z",
     "shell.execute_reply": "2025-04-20T08:15:07.126075Z"
    },
    "papermill": {
     "duration": 0.010219,
     "end_time": "2025-04-20T08:15:07.128044",
     "exception": false,
     "start_time": "2025-04-20T08:15:07.117825",
     "status": "completed"
    },
    "tags": []
   },
   "outputs": [
    {
     "data": {
      "text/plain": [
       "(277, 128, 313)"
      ]
     },
     "execution_count": 13,
     "metadata": {},
     "output_type": "execute_result"
    }
   ],
   "source": [
    "X_train.shape"
   ]
  },
  {
   "cell_type": "code",
   "execution_count": 14,
   "id": "9315cdcc",
   "metadata": {
    "execution": {
     "iopub.execute_input": "2025-04-20T08:15:07.136352Z",
     "iopub.status.busy": "2025-04-20T08:15:07.136117Z",
     "iopub.status.idle": "2025-04-20T08:15:22.049150Z",
     "shell.execute_reply": "2025-04-20T08:15:22.048282Z"
    },
    "papermill": {
     "duration": 14.918593,
     "end_time": "2025-04-20T08:15:22.050457",
     "exception": false,
     "start_time": "2025-04-20T08:15:07.131864",
     "status": "completed"
    },
    "tags": []
   },
   "outputs": [
    {
     "name": "stdout",
     "output_type": "stream",
     "text": [
      "Epoch 1/500\n",
      "\u001b[1m9/9\u001b[0m \u001b[32m━━━━━━━━━━━━━━━━━━━━\u001b[0m\u001b[37m\u001b[0m \u001b[1m8s\u001b[0m 579ms/step - accuracy: 0.0000e+00 - loss: 7.4458 - val_accuracy: 0.0084 - val_loss: 6.3974\n",
      "Epoch 2/500\n",
      "\u001b[1m9/9\u001b[0m \u001b[32m━━━━━━━━━━━━━━━━━━━━\u001b[0m\u001b[37m\u001b[0m \u001b[1m0s\u001b[0m 8ms/step - accuracy: 0.1711 - loss: 4.5904 - val_accuracy: 0.0084 - val_loss: 6.2503\n",
      "Epoch 3/500\n",
      "\u001b[1m9/9\u001b[0m \u001b[32m━━━━━━━━━━━━━━━━━━━━\u001b[0m\u001b[37m\u001b[0m \u001b[1m0s\u001b[0m 8ms/step - accuracy: 0.3705 - loss: 3.9117 - val_accuracy: 0.0336 - val_loss: 6.8383\n",
      "Epoch 4/500\n",
      "\u001b[1m9/9\u001b[0m \u001b[32m━━━━━━━━━━━━━━━━━━━━\u001b[0m\u001b[37m\u001b[0m \u001b[1m0s\u001b[0m 8ms/step - accuracy: 0.3907 - loss: 3.7242 - val_accuracy: 0.0420 - val_loss: 7.9201\n",
      "Epoch 5/500\n",
      "\u001b[1m9/9\u001b[0m \u001b[32m━━━━━━━━━━━━━━━━━━━━\u001b[0m\u001b[37m\u001b[0m \u001b[1m0s\u001b[0m 7ms/step - accuracy: 0.4616 - loss: 3.1775 - val_accuracy: 0.0336 - val_loss: 9.4557\n",
      "Epoch 6/500\n",
      "\u001b[1m9/9\u001b[0m \u001b[32m━━━━━━━━━━━━━━━━━━━━\u001b[0m\u001b[37m\u001b[0m \u001b[1m0s\u001b[0m 8ms/step - accuracy: 0.4883 - loss: 2.9614 - val_accuracy: 0.0336 - val_loss: 11.4803\n",
      "Epoch 7/500\n",
      "\u001b[1m9/9\u001b[0m \u001b[32m━━━━━━━━━━━━━━━━━━━━\u001b[0m\u001b[37m\u001b[0m \u001b[1m0s\u001b[0m 8ms/step - accuracy: 0.4689 - loss: 2.9856 - val_accuracy: 0.0336 - val_loss: 13.8859\n",
      "Epoch 8/500\n",
      "\u001b[1m9/9\u001b[0m \u001b[32m━━━━━━━━━━━━━━━━━━━━\u001b[0m\u001b[37m\u001b[0m \u001b[1m0s\u001b[0m 8ms/step - accuracy: 0.5873 - loss: 2.5223 - val_accuracy: 0.0336 - val_loss: 15.6208\n",
      "Epoch 9/500\n",
      "\u001b[1m9/9\u001b[0m \u001b[32m━━━━━━━━━━━━━━━━━━━━\u001b[0m\u001b[37m\u001b[0m \u001b[1m0s\u001b[0m 8ms/step - accuracy: 0.6225 - loss: 2.4402 - val_accuracy: 0.0336 - val_loss: 17.9841\n",
      "Epoch 10/500\n",
      "\u001b[1m9/9\u001b[0m \u001b[32m━━━━━━━━━━━━━━━━━━━━\u001b[0m\u001b[37m\u001b[0m \u001b[1m0s\u001b[0m 8ms/step - accuracy: 0.6935 - loss: 2.0146 - val_accuracy: 0.0420 - val_loss: 19.4064\n",
      "Epoch 11/500\n",
      "\u001b[1m9/9\u001b[0m \u001b[32m━━━━━━━━━━━━━━━━━━━━\u001b[0m\u001b[37m\u001b[0m \u001b[1m0s\u001b[0m 8ms/step - accuracy: 0.6786 - loss: 2.1760 - val_accuracy: 0.0336 - val_loss: 20.8106\n",
      "Epoch 12/500\n",
      "\u001b[1m9/9\u001b[0m \u001b[32m━━━━━━━━━━━━━━━━━━━━\u001b[0m\u001b[37m\u001b[0m \u001b[1m0s\u001b[0m 8ms/step - accuracy: 0.7349 - loss: 2.0422 - val_accuracy: 0.0420 - val_loss: 22.8635\n",
      "Epoch 13/500\n",
      "\u001b[1m9/9\u001b[0m \u001b[32m━━━━━━━━━━━━━━━━━━━━\u001b[0m\u001b[37m\u001b[0m \u001b[1m0s\u001b[0m 8ms/step - accuracy: 0.7395 - loss: 1.8765 - val_accuracy: 0.0336 - val_loss: 25.0152\n",
      "Epoch 14/500\n",
      "\u001b[1m9/9\u001b[0m \u001b[32m━━━━━━━━━━━━━━━━━━━━\u001b[0m\u001b[37m\u001b[0m \u001b[1m0s\u001b[0m 8ms/step - accuracy: 0.7166 - loss: 2.1745 - val_accuracy: 0.0336 - val_loss: 26.6708\n",
      "Epoch 15/500\n",
      "\u001b[1m9/9\u001b[0m \u001b[32m━━━━━━━━━━━━━━━━━━━━\u001b[0m\u001b[37m\u001b[0m \u001b[1m0s\u001b[0m 7ms/step - accuracy: 0.6976 - loss: 1.9073 - val_accuracy: 0.0252 - val_loss: 27.2365\n",
      "Epoch 16/500\n",
      "\u001b[1m9/9\u001b[0m \u001b[32m━━━━━━━━━━━━━━━━━━━━\u001b[0m\u001b[37m\u001b[0m \u001b[1m0s\u001b[0m 7ms/step - accuracy: 0.7599 - loss: 1.7052 - val_accuracy: 0.0252 - val_loss: 28.4205\n",
      "Epoch 17/500\n",
      "\u001b[1m9/9\u001b[0m \u001b[32m━━━━━━━━━━━━━━━━━━━━\u001b[0m\u001b[37m\u001b[0m \u001b[1m0s\u001b[0m 7ms/step - accuracy: 0.7522 - loss: 1.5525 - val_accuracy: 0.0252 - val_loss: 32.0436\n",
      "Epoch 18/500\n",
      "\u001b[1m9/9\u001b[0m \u001b[32m━━━━━━━━━━━━━━━━━━━━\u001b[0m\u001b[37m\u001b[0m \u001b[1m0s\u001b[0m 7ms/step - accuracy: 0.7779 - loss: 1.3168 - val_accuracy: 0.0168 - val_loss: 36.1701\n",
      "Epoch 19/500\n",
      "\u001b[1m9/9\u001b[0m \u001b[32m━━━━━━━━━━━━━━━━━━━━\u001b[0m\u001b[37m\u001b[0m \u001b[1m0s\u001b[0m 7ms/step - accuracy: 0.7899 - loss: 1.1235 - val_accuracy: 0.0252 - val_loss: 40.0364\n",
      "Epoch 20/500\n",
      "\u001b[1m9/9\u001b[0m \u001b[32m━━━━━━━━━━━━━━━━━━━━\u001b[0m\u001b[37m\u001b[0m \u001b[1m0s\u001b[0m 8ms/step - accuracy: 0.7563 - loss: 1.1431 - val_accuracy: 0.0168 - val_loss: 42.8381\n",
      "Epoch 21/500\n",
      "\u001b[1m9/9\u001b[0m \u001b[32m━━━━━━━━━━━━━━━━━━━━\u001b[0m\u001b[37m\u001b[0m \u001b[1m0s\u001b[0m 7ms/step - accuracy: 0.7861 - loss: 1.0971 - val_accuracy: 0.0168 - val_loss: 45.3721\n",
      "Epoch 22/500\n",
      "\u001b[1m9/9\u001b[0m \u001b[32m━━━━━━━━━━━━━━━━━━━━\u001b[0m\u001b[37m\u001b[0m \u001b[1m0s\u001b[0m 8ms/step - accuracy: 0.8265 - loss: 0.9671 - val_accuracy: 0.0252 - val_loss: 47.4779\n",
      "Epoch 23/500\n",
      "\u001b[1m9/9\u001b[0m \u001b[32m━━━━━━━━━━━━━━━━━━━━\u001b[0m\u001b[37m\u001b[0m \u001b[1m0s\u001b[0m 8ms/step - accuracy: 0.7938 - loss: 1.0658 - val_accuracy: 0.0252 - val_loss: 50.6918\n",
      "Epoch 24/500\n",
      "\u001b[1m9/9\u001b[0m \u001b[32m━━━━━━━━━━━━━━━━━━━━\u001b[0m\u001b[37m\u001b[0m \u001b[1m0s\u001b[0m 8ms/step - accuracy: 0.8344 - loss: 1.0065 - val_accuracy: 0.0336 - val_loss: 51.7611\n",
      "Epoch 25/500\n",
      "\u001b[1m9/9\u001b[0m \u001b[32m━━━━━━━━━━━━━━━━━━━━\u001b[0m\u001b[37m\u001b[0m \u001b[1m0s\u001b[0m 7ms/step - accuracy: 0.8343 - loss: 0.8857 - val_accuracy: 0.0336 - val_loss: 54.9171\n",
      "Epoch 26/500\n",
      "\u001b[1m9/9\u001b[0m \u001b[32m━━━━━━━━━━━━━━━━━━━━\u001b[0m\u001b[37m\u001b[0m \u001b[1m0s\u001b[0m 7ms/step - accuracy: 0.8515 - loss: 0.7989 - val_accuracy: 0.0336 - val_loss: 56.4021\n",
      "Epoch 27/500\n",
      "\u001b[1m9/9\u001b[0m \u001b[32m━━━━━━━━━━━━━━━━━━━━\u001b[0m\u001b[37m\u001b[0m \u001b[1m0s\u001b[0m 7ms/step - accuracy: 0.8382 - loss: 0.8231 - val_accuracy: 0.0504 - val_loss: 58.4909\n",
      "Epoch 28/500\n",
      "\u001b[1m9/9\u001b[0m \u001b[32m━━━━━━━━━━━━━━━━━━━━\u001b[0m\u001b[37m\u001b[0m \u001b[1m0s\u001b[0m 7ms/step - accuracy: 0.8815 - loss: 0.7116 - val_accuracy: 0.0420 - val_loss: 60.9257\n",
      "Epoch 29/500\n",
      "\u001b[1m9/9\u001b[0m \u001b[32m━━━━━━━━━━━━━━━━━━━━\u001b[0m\u001b[37m\u001b[0m \u001b[1m0s\u001b[0m 7ms/step - accuracy: 0.8695 - loss: 0.7511 - val_accuracy: 0.0420 - val_loss: 59.6485\n",
      "Epoch 30/500\n",
      "\u001b[1m9/9\u001b[0m \u001b[32m━━━━━━━━━━━━━━━━━━━━\u001b[0m\u001b[37m\u001b[0m \u001b[1m0s\u001b[0m 7ms/step - accuracy: 0.8682 - loss: 0.7323 - val_accuracy: 0.0504 - val_loss: 59.3947\n",
      "Epoch 31/500\n",
      "\u001b[1m9/9\u001b[0m \u001b[32m━━━━━━━━━━━━━━━━━━━━\u001b[0m\u001b[37m\u001b[0m \u001b[1m0s\u001b[0m 8ms/step - accuracy: 0.8365 - loss: 0.7849 - val_accuracy: 0.0420 - val_loss: 59.1418\n",
      "Epoch 32/500\n",
      "\u001b[1m9/9\u001b[0m \u001b[32m━━━━━━━━━━━━━━━━━━━━\u001b[0m\u001b[37m\u001b[0m \u001b[1m0s\u001b[0m 8ms/step - accuracy: 0.8923 - loss: 0.6502 - val_accuracy: 0.0588 - val_loss: 60.8218\n",
      "Epoch 33/500\n",
      "\u001b[1m9/9\u001b[0m \u001b[32m━━━━━━━━━━━━━━━━━━━━\u001b[0m\u001b[37m\u001b[0m \u001b[1m0s\u001b[0m 8ms/step - accuracy: 0.8989 - loss: 0.6579 - val_accuracy: 0.0336 - val_loss: 65.0526\n",
      "Epoch 34/500\n",
      "\u001b[1m9/9\u001b[0m \u001b[32m━━━━━━━━━━━━━━━━━━━━\u001b[0m\u001b[37m\u001b[0m \u001b[1m0s\u001b[0m 8ms/step - accuracy: 0.8763 - loss: 0.5791 - val_accuracy: 0.0504 - val_loss: 69.6408\n",
      "Epoch 35/500\n",
      "\u001b[1m9/9\u001b[0m \u001b[32m━━━━━━━━━━━━━━━━━━━━\u001b[0m\u001b[37m\u001b[0m \u001b[1m0s\u001b[0m 7ms/step - accuracy: 0.8819 - loss: 0.5745 - val_accuracy: 0.0336 - val_loss: 74.8024\n",
      "Epoch 36/500\n",
      "\u001b[1m9/9\u001b[0m \u001b[32m━━━━━━━━━━━━━━━━━━━━\u001b[0m\u001b[37m\u001b[0m \u001b[1m0s\u001b[0m 7ms/step - accuracy: 0.8911 - loss: 0.5437 - val_accuracy: 0.0420 - val_loss: 80.0101\n",
      "Epoch 37/500\n",
      "\u001b[1m9/9\u001b[0m \u001b[32m━━━━━━━━━━━━━━━━━━━━\u001b[0m\u001b[37m\u001b[0m \u001b[1m0s\u001b[0m 7ms/step - accuracy: 0.9084 - loss: 0.4095 - val_accuracy: 0.0420 - val_loss: 84.3197\n",
      "Epoch 38/500\n",
      "\u001b[1m9/9\u001b[0m \u001b[32m━━━━━━━━━━━━━━━━━━━━\u001b[0m\u001b[37m\u001b[0m \u001b[1m0s\u001b[0m 7ms/step - accuracy: 0.9281 - loss: 0.3901 - val_accuracy: 0.0420 - val_loss: 87.7955\n",
      "Epoch 39/500\n",
      "\u001b[1m9/9\u001b[0m \u001b[32m━━━━━━━━━━━━━━━━━━━━\u001b[0m\u001b[37m\u001b[0m \u001b[1m0s\u001b[0m 7ms/step - accuracy: 0.8937 - loss: 0.4530 - val_accuracy: 0.0420 - val_loss: 91.8136\n",
      "Epoch 40/500\n",
      "\u001b[1m9/9\u001b[0m \u001b[32m━━━━━━━━━━━━━━━━━━━━\u001b[0m\u001b[37m\u001b[0m \u001b[1m0s\u001b[0m 8ms/step - accuracy: 0.9208 - loss: 0.3895 - val_accuracy: 0.0252 - val_loss: 95.9901\n",
      "Epoch 41/500\n",
      "\u001b[1m9/9\u001b[0m \u001b[32m━━━━━━━━━━━━━━━━━━━━\u001b[0m\u001b[37m\u001b[0m \u001b[1m0s\u001b[0m 7ms/step - accuracy: 0.8827 - loss: 0.5967 - val_accuracy: 0.0252 - val_loss: 90.0437\n",
      "Epoch 42/500\n",
      "\u001b[1m9/9\u001b[0m \u001b[32m━━━━━━━━━━━━━━━━━━━━\u001b[0m\u001b[37m\u001b[0m \u001b[1m0s\u001b[0m 8ms/step - accuracy: 0.8798 - loss: 1.0286 - val_accuracy: 0.0252 - val_loss: 69.5477\n",
      "Epoch 43/500\n",
      "\u001b[1m9/9\u001b[0m \u001b[32m━━━━━━━━━━━━━━━━━━━━\u001b[0m\u001b[37m\u001b[0m \u001b[1m0s\u001b[0m 8ms/step - accuracy: 0.8413 - loss: 1.1255 - val_accuracy: 0.0588 - val_loss: 58.1812\n",
      "Epoch 44/500\n",
      "\u001b[1m9/9\u001b[0m \u001b[32m━━━━━━━━━━━━━━━━━━━━\u001b[0m\u001b[37m\u001b[0m \u001b[1m0s\u001b[0m 8ms/step - accuracy: 0.8641 - loss: 1.2611 - val_accuracy: 0.0252 - val_loss: 51.7207\n"
     ]
    },
    {
     "data": {
      "text/plain": [
       "<keras.src.callbacks.history.History at 0x7d3496ba2020>"
      ]
     },
     "execution_count": 14,
     "metadata": {},
     "output_type": "execute_result"
    }
   ],
   "source": [
    "# model training\n",
    "from tensorflow.keras import layers,models\n",
    "\n",
    "model = models.Sequential(\n",
    "    [\n",
    "        layers.Input(shape=(128,313)),\n",
    "        layers.Conv1D(32,kernel_size=3,activation='relu'),\n",
    "        layers.MaxPooling1D(2),\n",
    "\n",
    "        layers.Conv1D(64,kernel_size=3,activation='relu'),\n",
    "        layers.MaxPooling1D(2),\n",
    "\n",
    "        layers.Flatten(),\n",
    "        layers.Dense(128,activation='relu'),\n",
    "        layers.Dense(206,activation='softmax')\n",
    "        \n",
    "    ]\n",
    "    \n",
    ")\n",
    "optimizer = tf.keras.optimizers.Adam(learning_rate=0.001)\n",
    "callbacks = tf.keras.callbacks.EarlyStopping(monitor='loss',patience=5)\n",
    "model.compile(optimizer=optimizer,loss='sparse_categorical_crossentropy',metrics=['accuracy'])\n",
    "model.fit(X_train,y_train,validation_data=(X_val,y_val),epochs=500,callbacks=[callbacks])"
   ]
  },
  {
   "cell_type": "code",
   "execution_count": 15,
   "id": "56e9da1c",
   "metadata": {
    "execution": {
     "iopub.execute_input": "2025-04-20T08:15:22.072014Z",
     "iopub.status.busy": "2025-04-20T08:15:22.071697Z",
     "iopub.status.idle": "2025-04-20T08:15:22.118495Z",
     "shell.execute_reply": "2025-04-20T08:15:22.117720Z"
    },
    "papermill": {
     "duration": 0.05862,
     "end_time": "2025-04-20T08:15:22.119641",
     "exception": false,
     "start_time": "2025-04-20T08:15:22.061021",
     "status": "completed"
    },
    "tags": []
   },
   "outputs": [
    {
     "name": "stdout",
     "output_type": "stream",
     "text": [
      "readme.txt\n",
      "submission.csv created\n"
     ]
    },
    {
     "data": {
      "text/html": [
       "<div>\n",
       "<style scoped>\n",
       "    .dataframe tbody tr th:only-of-type {\n",
       "        vertical-align: middle;\n",
       "    }\n",
       "\n",
       "    .dataframe tbody tr th {\n",
       "        vertical-align: top;\n",
       "    }\n",
       "\n",
       "    .dataframe thead th {\n",
       "        text-align: right;\n",
       "    }\n",
       "</style>\n",
       "<table border=\"1\" class=\"dataframe\">\n",
       "  <thead>\n",
       "    <tr style=\"text-align: right;\">\n",
       "      <th></th>\n",
       "      <th>row_id</th>\n",
       "      <th>1139490</th>\n",
       "      <th>1192948</th>\n",
       "      <th>1194042</th>\n",
       "      <th>126247</th>\n",
       "      <th>1346504</th>\n",
       "      <th>134933</th>\n",
       "      <th>135045</th>\n",
       "      <th>1462711</th>\n",
       "      <th>1462737</th>\n",
       "      <th>...</th>\n",
       "      <th>yebfly1</th>\n",
       "      <th>yebsee1</th>\n",
       "      <th>yecspi2</th>\n",
       "      <th>yectyr1</th>\n",
       "      <th>yehbla2</th>\n",
       "      <th>yehcar1</th>\n",
       "      <th>yelori1</th>\n",
       "      <th>yeofly1</th>\n",
       "      <th>yercac1</th>\n",
       "      <th>ywcpar</th>\n",
       "    </tr>\n",
       "  </thead>\n",
       "  <tbody>\n",
       "  </tbody>\n",
       "</table>\n",
       "<p>0 rows × 207 columns</p>\n",
       "</div>"
      ],
      "text/plain": [
       "Empty DataFrame\n",
       "Columns: [row_id, 1139490, 1192948, 1194042, 126247, 1346504, 134933, 135045, 1462711, 1462737, 1564122, 21038, 21116, 21211, 22333, 22973, 22976, 24272, 24292, 24322, 41663, 41778, 41970, 42007, 42087, 42113, 46010, 47067, 476537, 476538, 48124, 50186, 517119, 523060, 528041, 52884, 548639, 555086, 555142, 566513, 64862, 65336, 65344, 65349, 65373, 65419, 65448, 65547, 65962, 66016, 66531, 66578, 66893, 67082, 67252, 714022, 715170, 787625, 81930, 868458, 963335, amakin1, amekes, ampkin1, anhing, babwar, bafibi1, banana, baymac, bbwduc, bicwre1, bkcdon, bkmtou1, blbgra1, blbwre1, blcant4, blchaw1, blcjay1, blctit1, blhpar1, blkvul, bobfly1, bobher1, brtpar1, bubcur1, bubwre1, bucmot3, bugtan, butsal1, cargra1, cattyr, chbant1, chfmac1, cinbec1, cocher1, cocwoo1, colara1, colcha1, compau, compot1, ...]\n",
       "Index: []\n",
       "\n",
       "[0 rows x 207 columns]"
      ]
     },
     "execution_count": 15,
     "metadata": {},
     "output_type": "execute_result"
    }
   ],
   "source": [
    "# processing using librosa\n",
    "def load_audio(file):\n",
    "    audio,sr = librosa.load(file,sr=32000)\n",
    "    return audio\n",
    "\n",
    "# amplitude envelope\n",
    "def amplitude_envelope(signal,frame_size,hop_length):\n",
    "    envelope = list()\n",
    "    # calculate amplitude frame\n",
    "    for i in range(0,len(signal),hop_length):\n",
    "        amplitude_env_frame = max(signal[i:i+frame_size])\n",
    "        envelope.append(amplitude_env_frame)\n",
    "    return envelope\n",
    "\n",
    "\n",
    "# audio to mel spectrogram\n",
    "def audio2melspec(audio_data):\n",
    "    \"\"\"Returns the mel spec for audio file\"\"\"\n",
    "    if np.isnan(audio_data).any():\n",
    "        mean_signal = np.nanmean(audio_data)\n",
    "        audio_data = np.nan_to_num(audio_data, nan=mean_signal)\n",
    "\n",
    "    mel_spec = librosa.feature.melspectrogram(\n",
    "        y=audio_data,\n",
    "        sr=32000,\n",
    "        n_fft=1024,\n",
    "        hop_length=500,\n",
    "        n_mels=128,\n",
    "        fmin=40,\n",
    "        fmax=15000,\n",
    "        power=2.0\n",
    "    )\n",
    "    mel_spec_db = librosa.power_to_db(mel_spec, ref=np.max)\n",
    "    return mel_spec_db\n",
    "\n",
    "\n",
    "# complete processsing\n",
    "def preprocess(audio_file):\n",
    "    \"\"\"Returns the processed audio files\"\"\"\n",
    "    loaded_aud = load_audio(audio_file)\n",
    "    target_audio = int(5.0*32000)\n",
    "    if len(loaded_aud) < target_audio:\n",
    "        n_copy = np.math.ceil(target_audio/len(loaded_aud))\n",
    "        if n_copy > 1:\n",
    "            loaded_aud = np.concatenate([loaded_aud] * n_copy)\n",
    "\n",
    "    start_idx = 0 \n",
    "    end_idx=start_idx + target_audio\n",
    "    center_audio = loaded_aud[start_idx:end_idx]\n",
    "\n",
    "    if len(center_audio) < target_audio:\n",
    "        center_audio = np.pad(center_audio, \n",
    "                             (0, target_samples - len(center_audio)), \n",
    "                             mode='constant')\n",
    "        \n",
    "    mel_aud = audio2melspec(center_audio)\n",
    "    return mel_aud\n",
    "\n",
    "# Load label encoder used during training\n",
    "primary_labelencoder = LabelEncoder()\n",
    "class_labels = sorted(os.listdir('/kaggle/input/birdclef-2025/train_audio/'))\n",
    "primary_labelencoder.fit(class_labels)  # Fit encoder on original labels\n",
    "\n",
    "# Paths\n",
    "test_dir = '/kaggle/input/birdclef-2025/test_soundscapes'\n",
    "sample_sub = pd.read_csv('/kaggle/input/birdclef-2025/sample_submission.csv')\n",
    "\n",
    "# Final prediction storage\n",
    "submission_rows = []\n",
    "\n",
    "# Iterate through soundscapes\n",
    "for filename in sorted(os.listdir(test_dir)):\n",
    "    print(filename)\n",
    "    if not filename.endswith('.ogg'):\n",
    "        continue\n",
    "    try :\n",
    "        file_path = os.path.join(test_dir, filename)\n",
    "        y, _ = librosa.load(file_path, sr=sr)\n",
    "        soundscape_id = filename.replace('.ogg', '')\n",
    "    \n",
    "        # Extract features and reshape\n",
    "        mfcc = preprocess(y)\n",
    "        input_features = np.expand_dims(mfcc, axis=0)\n",
    "        print(input_features)\n",
    "\n",
    "        # Predict probabilities\n",
    "        probs = model.predict(input_features, verbose=0)[0]\n",
    "\n",
    "        # Convert indices back to original species IDs\n",
    "        mapped_labels = primary_labelencoder.inverse_transform(range(len(probs)))\n",
    "\n",
    "        # Create a dictionary of {species_id: probability}\n",
    "        prob_dict = dict(zip(mapped_labels, probs))\n",
    "\n",
    "        # Ensure submission columns match sample_submission.csv order\n",
    "        ordered_probs = [prob_dict.get(species, 0) for species in sample_sub.columns[1:]]\n",
    "\n",
    "        # Append row\n",
    "        row_id = f\"{soundscape_id}_{i + duration}\"\n",
    "        submission_rows.append([row_id] + ordered_probs)\n",
    "    except Exception as e:\n",
    "        print(e)\n",
    "\n",
    "# Build submission DataFrame\n",
    "submission_df = pd.DataFrame(submission_rows, columns=['row_id'] + list(sample_sub.columns[1:]))\n",
    "\n",
    "# Save CSV\n",
    "submission_df.to_csv(\"submission.csv\", index=False)\n",
    "print(\"submission.csv created\")\n",
    "submission_df.head(5)"
   ]
  },
  {
   "cell_type": "code",
   "execution_count": null,
   "id": "38078f2d",
   "metadata": {
    "papermill": {
     "duration": 0.009923,
     "end_time": "2025-04-20T08:15:22.139565",
     "exception": false,
     "start_time": "2025-04-20T08:15:22.129642",
     "status": "completed"
    },
    "tags": []
   },
   "outputs": [],
   "source": []
  },
  {
   "cell_type": "code",
   "execution_count": null,
   "id": "5510ebd6",
   "metadata": {
    "papermill": {
     "duration": 0.009646,
     "end_time": "2025-04-20T08:15:22.160338",
     "exception": false,
     "start_time": "2025-04-20T08:15:22.150692",
     "status": "completed"
    },
    "tags": []
   },
   "outputs": [],
   "source": []
  },
  {
   "cell_type": "code",
   "execution_count": null,
   "id": "bab6c0bc",
   "metadata": {
    "papermill": {
     "duration": 0.00942,
     "end_time": "2025-04-20T08:15:22.179657",
     "exception": false,
     "start_time": "2025-04-20T08:15:22.170237",
     "status": "completed"
    },
    "tags": []
   },
   "outputs": [],
   "source": []
  },
  {
   "cell_type": "code",
   "execution_count": null,
   "id": "2853d595",
   "metadata": {
    "papermill": {
     "duration": 0.009488,
     "end_time": "2025-04-20T08:15:22.198742",
     "exception": false,
     "start_time": "2025-04-20T08:15:22.189254",
     "status": "completed"
    },
    "tags": []
   },
   "outputs": [],
   "source": []
  }
 ],
 "metadata": {
  "kaggle": {
   "accelerator": "gpu",
   "dataSources": [
    {
     "databundleVersionId": 11361821,
     "sourceId": 91844,
     "sourceType": "competition"
    },
    {
     "datasetId": 7197368,
     "sourceId": 11483543,
     "sourceType": "datasetVersion"
    }
   ],
   "dockerImageVersionId": 30918,
   "isGpuEnabled": true,
   "isInternetEnabled": false,
   "language": "python",
   "sourceType": "notebook"
  },
  "kernelspec": {
   "display_name": "Python 3",
   "language": "python",
   "name": "python3"
  },
  "language_info": {
   "codemirror_mode": {
    "name": "ipython",
    "version": 3
   },
   "file_extension": ".py",
   "mimetype": "text/x-python",
   "name": "python",
   "nbconvert_exporter": "python",
   "pygments_lexer": "ipython3",
   "version": "3.10.12"
  },
  "papermill": {
   "default_parameters": {},
   "duration": 36.859783,
   "end_time": "2025-04-20T08:15:24.649245",
   "environment_variables": {},
   "exception": null,
   "input_path": "__notebook__.ipynb",
   "output_path": "__notebook__.ipynb",
   "parameters": {},
   "start_time": "2025-04-20T08:14:47.789462",
   "version": "2.6.0"
  }
 },
 "nbformat": 4,
 "nbformat_minor": 5
}
